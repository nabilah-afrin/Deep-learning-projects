{
  "nbformat": 4,
  "nbformat_minor": 0,
  "metadata": {
    "colab": {
      "provenance": [],
      "gpuType": "T4"
    },
    "kernelspec": {
      "name": "python3",
      "display_name": "Python 3"
    },
    "language_info": {
      "name": "python"
    },
    "accelerator": "GPU"
  },
  "cells": [
    {
      "cell_type": "markdown",
      "source": [
        "# 1. Requirements"
      ],
      "metadata": {
        "id": "eBCtunSSROCi"
      }
    },
    {
      "cell_type": "code",
      "execution_count": 1,
      "metadata": {
        "colab": {
          "base_uri": "https://localhost:8080/"
        },
        "id": "9VuKeEAHaAGW",
        "outputId": "a89dc58e-4aad-4a74-aab0-56eb8524c586"
      },
      "outputs": [
        {
          "output_type": "stream",
          "name": "stdout",
          "text": [
            "Collecting antspyx\n",
            "  Downloading antspyx-0.4.2-cp310-cp310-manylinux_2_17_x86_64.manylinux2014_x86_64.whl (345.9 MB)\n",
            "\u001b[2K     \u001b[90m━━━━━━━━━━━━━━━━━━━━━━━━━━━━━━━━━━━━━━━━\u001b[0m \u001b[32m345.9/345.9 MB\u001b[0m \u001b[31m3.5 MB/s\u001b[0m eta \u001b[36m0:00:00\u001b[0m\n",
            "\u001b[?25hRequirement already satisfied: pandas in /usr/local/lib/python3.10/dist-packages (from antspyx) (1.5.3)\n",
            "Requirement already satisfied: numpy in /usr/local/lib/python3.10/dist-packages (from antspyx) (1.23.5)\n",
            "Requirement already satisfied: scipy in /usr/local/lib/python3.10/dist-packages (from antspyx) (1.11.4)\n",
            "Requirement already satisfied: scikit-image in /usr/local/lib/python3.10/dist-packages (from antspyx) (0.19.3)\n",
            "Requirement already satisfied: scikit-learn in /usr/local/lib/python3.10/dist-packages (from antspyx) (1.2.2)\n",
            "Requirement already satisfied: statsmodels in /usr/local/lib/python3.10/dist-packages (from antspyx) (0.14.1)\n",
            "Requirement already satisfied: webcolors in /usr/local/lib/python3.10/dist-packages (from antspyx) (1.13)\n",
            "Requirement already satisfied: matplotlib in /usr/local/lib/python3.10/dist-packages (from antspyx) (3.7.1)\n",
            "Requirement already satisfied: pyyaml in /usr/local/lib/python3.10/dist-packages (from antspyx) (6.0.1)\n",
            "Collecting chart-studio (from antspyx)\n",
            "  Downloading chart_studio-1.1.0-py3-none-any.whl (64 kB)\n",
            "\u001b[2K     \u001b[90m━━━━━━━━━━━━━━━━━━━━━━━━━━━━━━━━━━━━━━━━\u001b[0m \u001b[32m64.4/64.4 kB\u001b[0m \u001b[31m8.8 MB/s\u001b[0m eta \u001b[36m0:00:00\u001b[0m\n",
            "\u001b[?25hRequirement already satisfied: Pillow in /usr/local/lib/python3.10/dist-packages (from antspyx) (9.4.0)\n",
            "Requirement already satisfied: nibabel in /usr/local/lib/python3.10/dist-packages (from antspyx) (4.0.2)\n",
            "Requirement already satisfied: plotly in /usr/local/lib/python3.10/dist-packages (from chart-studio->antspyx) (5.15.0)\n",
            "Requirement already satisfied: requests in /usr/local/lib/python3.10/dist-packages (from chart-studio->antspyx) (2.31.0)\n",
            "Collecting retrying>=1.3.3 (from chart-studio->antspyx)\n",
            "  Downloading retrying-1.3.4-py3-none-any.whl (11 kB)\n",
            "Requirement already satisfied: six in /usr/local/lib/python3.10/dist-packages (from chart-studio->antspyx) (1.16.0)\n",
            "Requirement already satisfied: contourpy>=1.0.1 in /usr/local/lib/python3.10/dist-packages (from matplotlib->antspyx) (1.2.0)\n",
            "Requirement already satisfied: cycler>=0.10 in /usr/local/lib/python3.10/dist-packages (from matplotlib->antspyx) (0.12.1)\n",
            "Requirement already satisfied: fonttools>=4.22.0 in /usr/local/lib/python3.10/dist-packages (from matplotlib->antspyx) (4.47.0)\n",
            "Requirement already satisfied: kiwisolver>=1.0.1 in /usr/local/lib/python3.10/dist-packages (from matplotlib->antspyx) (1.4.5)\n",
            "Requirement already satisfied: packaging>=20.0 in /usr/local/lib/python3.10/dist-packages (from matplotlib->antspyx) (23.2)\n",
            "Requirement already satisfied: pyparsing>=2.3.1 in /usr/local/lib/python3.10/dist-packages (from matplotlib->antspyx) (3.1.1)\n",
            "Requirement already satisfied: python-dateutil>=2.7 in /usr/local/lib/python3.10/dist-packages (from matplotlib->antspyx) (2.8.2)\n",
            "Requirement already satisfied: setuptools in /usr/local/lib/python3.10/dist-packages (from nibabel->antspyx) (67.7.2)\n",
            "Requirement already satisfied: pytz>=2020.1 in /usr/local/lib/python3.10/dist-packages (from pandas->antspyx) (2023.3.post1)\n",
            "Requirement already satisfied: networkx>=2.2 in /usr/local/lib/python3.10/dist-packages (from scikit-image->antspyx) (3.2.1)\n",
            "Requirement already satisfied: imageio>=2.4.1 in /usr/local/lib/python3.10/dist-packages (from scikit-image->antspyx) (2.31.6)\n",
            "Requirement already satisfied: tifffile>=2019.7.26 in /usr/local/lib/python3.10/dist-packages (from scikit-image->antspyx) (2023.12.9)\n",
            "Requirement already satisfied: PyWavelets>=1.1.1 in /usr/local/lib/python3.10/dist-packages (from scikit-image->antspyx) (1.5.0)\n",
            "Requirement already satisfied: joblib>=1.1.1 in /usr/local/lib/python3.10/dist-packages (from scikit-learn->antspyx) (1.3.2)\n",
            "Requirement already satisfied: threadpoolctl>=2.0.0 in /usr/local/lib/python3.10/dist-packages (from scikit-learn->antspyx) (3.2.0)\n",
            "Requirement already satisfied: patsy>=0.5.4 in /usr/local/lib/python3.10/dist-packages (from statsmodels->antspyx) (0.5.4)\n",
            "Requirement already satisfied: tenacity>=6.2.0 in /usr/local/lib/python3.10/dist-packages (from plotly->chart-studio->antspyx) (8.2.3)\n",
            "Requirement already satisfied: charset-normalizer<4,>=2 in /usr/local/lib/python3.10/dist-packages (from requests->chart-studio->antspyx) (3.3.2)\n",
            "Requirement already satisfied: idna<4,>=2.5 in /usr/local/lib/python3.10/dist-packages (from requests->chart-studio->antspyx) (3.6)\n",
            "Requirement already satisfied: urllib3<3,>=1.21.1 in /usr/local/lib/python3.10/dist-packages (from requests->chart-studio->antspyx) (2.0.7)\n",
            "Requirement already satisfied: certifi>=2017.4.17 in /usr/local/lib/python3.10/dist-packages (from requests->chart-studio->antspyx) (2023.11.17)\n",
            "Installing collected packages: retrying, chart-studio, antspyx\n",
            "Successfully installed antspyx-0.4.2 chart-studio-1.1.0 retrying-1.3.4\n"
          ]
        }
      ],
      "source": [
        "!pip install antspyx"
      ]
    },
    {
      "cell_type": "markdown",
      "source": [
        "## 1.2. Import modules"
      ],
      "metadata": {
        "id": "iCTU07anRT29"
      }
    },
    {
      "cell_type": "code",
      "source": [
        "import ants\n",
        "from ants import atropos, get_ants_data, image_read, resample_image, get_mask, plot\n",
        "import zipfile\n",
        "import numpy as np\n",
        "import nibabel as nib\n",
        "import os,glob,cv2,re,json,numbers\n",
        "import pylab as plt\n",
        "import pandas as pd\n",
        "from pathlib import *\n",
        "from scipy import ndimage\n",
        "from matplotlib import pyplot as plt\n",
        "from sklearn.model_selection import train_test_split\n",
        "import tensorflow as tf\n",
        "from tensorflow import keras\n",
        "from tensorflow.keras import layers\n",
        "from tensorflow.keras import layers, Input\n",
        "from tensorflow.keras.models import Model, Sequential\n",
        "from tensorflow.keras.utils import to_categorical\n",
        "from tensorflow.keras import backend as K\n",
        "from tensorflow.keras.models import Model\n",
        "from tensorflow.keras.optimizers import Adam\n",
        "from tf.keras.layers import ReLU\n",
        "from tensorflow.keras.callbacks import ModelCheckpoint, LearningRateScheduler\n",
        "from tensorflow.keras.layers import Conv3D, MaxPooling3D\n",
        "from tensorflow.keras.layers import BatchNormalization, Dropout, Activation\n",
        "from tensorflow.keras.layers import Dense, Flatten, Input"
      ],
      "metadata": {
        "id": "R8EHisjehL2P",
        "colab": {
          "base_uri": "https://localhost:8080/",
          "height": 246
        },
        "outputId": "54a6a418-0f45-4365-83b3-211d2cd3eb6f"
      },
      "execution_count": 14,
      "outputs": [
        {
          "output_type": "error",
          "ename": "ModuleNotFoundError",
          "evalue": "No module named 'tf'",
          "traceback": [
            "\u001b[0;31m---------------------------------------------------------------------------\u001b[0m",
            "\u001b[0;31mModuleNotFoundError\u001b[0m                       Traceback (most recent call last)",
            "\u001b[0;32m<ipython-input-14-79a112e7b8cc>\u001b[0m in \u001b[0;36m<cell line: 22>\u001b[0;34m()\u001b[0m\n\u001b[1;32m     20\u001b[0m \u001b[0;32mfrom\u001b[0m \u001b[0mtensorflow\u001b[0m\u001b[0;34m.\u001b[0m\u001b[0mkeras\u001b[0m\u001b[0;34m.\u001b[0m\u001b[0mmodels\u001b[0m \u001b[0;32mimport\u001b[0m \u001b[0mModel\u001b[0m\u001b[0;34m\u001b[0m\u001b[0;34m\u001b[0m\u001b[0m\n\u001b[1;32m     21\u001b[0m \u001b[0;32mfrom\u001b[0m \u001b[0mtensorflow\u001b[0m\u001b[0;34m.\u001b[0m\u001b[0mkeras\u001b[0m\u001b[0;34m.\u001b[0m\u001b[0moptimizers\u001b[0m \u001b[0;32mimport\u001b[0m \u001b[0mAdam\u001b[0m\u001b[0;34m\u001b[0m\u001b[0;34m\u001b[0m\u001b[0m\n\u001b[0;32m---> 22\u001b[0;31m \u001b[0;32mfrom\u001b[0m \u001b[0mtf\u001b[0m\u001b[0;34m.\u001b[0m\u001b[0mkeras\u001b[0m\u001b[0;34m.\u001b[0m\u001b[0mlayers\u001b[0m \u001b[0;32mimport\u001b[0m \u001b[0mReLU\u001b[0m\u001b[0;34m\u001b[0m\u001b[0;34m\u001b[0m\u001b[0m\n\u001b[0m\u001b[1;32m     23\u001b[0m \u001b[0;32mfrom\u001b[0m \u001b[0mtensorflow\u001b[0m\u001b[0;34m.\u001b[0m\u001b[0mkeras\u001b[0m\u001b[0;34m.\u001b[0m\u001b[0mcallbacks\u001b[0m \u001b[0;32mimport\u001b[0m \u001b[0mModelCheckpoint\u001b[0m\u001b[0;34m,\u001b[0m \u001b[0mLearningRateScheduler\u001b[0m\u001b[0;34m\u001b[0m\u001b[0;34m\u001b[0m\u001b[0m\n\u001b[1;32m     24\u001b[0m \u001b[0;32mfrom\u001b[0m \u001b[0mtensorflow\u001b[0m\u001b[0;34m.\u001b[0m\u001b[0mkeras\u001b[0m\u001b[0;34m.\u001b[0m\u001b[0mlayers\u001b[0m \u001b[0;32mimport\u001b[0m \u001b[0mConv3D\u001b[0m\u001b[0;34m,\u001b[0m \u001b[0mMaxPooling3D\u001b[0m\u001b[0;34m\u001b[0m\u001b[0;34m\u001b[0m\u001b[0m\n",
            "\u001b[0;31mModuleNotFoundError\u001b[0m: No module named 'tf'"
          ]
        }
      ]
    },
    {
      "cell_type": "markdown",
      "source": [
        "# 2. Preprocessing"
      ],
      "metadata": {
        "id": "reRDdXUHRrN3"
      }
    },
    {
      "cell_type": "markdown",
      "source": [
        "# 2.1. File Extraction"
      ],
      "metadata": {
        "id": "U1hvuvTaR9tU"
      }
    },
    {
      "cell_type": "code",
      "source": [
        "with zipfile.ZipFile(\"/content/drive/MyDrive/Parkinsons.zip\",\"r\") as zip_ref:\n",
        "    zip_ref.extractall(\"/content/drive/MyDrive\")"
      ],
      "metadata": {
        "id": "EpI8PoOIht-_"
      },
      "execution_count": 3,
      "outputs": []
    },
    {
      "cell_type": "code",
      "source": [
        "def read_nifti_file(filepath):\n",
        "    scan = nib.load(filepath)\n",
        "    scan = scan.get_fdata()\n",
        "    return scan\n",
        "def normalize(image_arr):\n",
        "    mean = np.mean(image_arr)\n",
        "    std = np.std(image_arr)\n",
        "    normalized_arr = (image_arr - mean) / std\n",
        "    return normalized_arr\n",
        "def resize_volume(img):\n",
        "    desired_depth = 64\n",
        "    desired_width = 128\n",
        "    desired_height = 128\n",
        "    current_depth = img.shape[-1]\n",
        "    current_width = img.shape[0]\n",
        "    current_height = img.shape[1]\n",
        "    depth = current_depth / desired_depth\n",
        "    width = current_width / desired_width\n",
        "    height = current_height / desired_height\n",
        "    depth_factor = 1 / depth\n",
        "    width_factor = 1 / width\n",
        "    height_factor = 1 / height\n",
        "    img = ndimage.rotate(img, 90, reshape=False)\n",
        "    img = ndimage.zoom(img, (width_factor, height_factor, depth_factor), order=1)\n",
        "    return img\n",
        "def apply_n4_bias_field_correction(img):\n",
        "    img = ants.from_numpy(img)\n",
        "    mask = ants.get_mask(img)\n",
        "\n",
        "    # Perform N4 bias field correction\n",
        "    img = ants.n4_bias_field_correction(img, mask=mask, rescale_intensities=True,\n",
        "                                              shrink_factor=2, convergence={'iters': [50, 50, 30, 20], 'tol': 1e-07},\n",
        "                                              spline_param=None, return_bias_field=False, verbose=False, weight_mask=None)\n",
        "\n",
        "\n",
        "\n",
        "    # Perform additional processing, for example, using atropos\n",
        "    # img_corrected = atropos(a=img, x=mask, i='Kmeans[3]', m='[0.2,1x1x1]', c='[5,0]')\n",
        "\n",
        "    # Convert to NumPy array\n",
        "    img = img.numpy()\n",
        "\n",
        "    return img\n",
        "\n",
        "def process_scan(path):\n",
        "    volume = read_nifti_file(path)\n",
        "    normalized_volume = normalize(volume)\n",
        "    resized_volume = resize_volume(normalized_volume)\n",
        "    bias_corrected_volume = apply_n4_bias_field_correction(resized_volume)\n",
        "    return bias_corrected_volume"
      ],
      "metadata": {
        "id": "mLIYmn4Vhc_Y"
      },
      "execution_count": 4,
      "outputs": []
    },
    {
      "cell_type": "markdown",
      "source": [
        "## 2.2. Processing"
      ],
      "metadata": {
        "id": "zB1GVVIfSDLy"
      }
    },
    {
      "cell_type": "code",
      "source": [
        "glob_path_control = glob.glob(r\"/content/drive/MyDrive/Parkinsons/sub-control*.nii.gz\")\n",
        "glob_path_patient = glob.glob(r\"/content/drive/MyDrive/Parkinsons/sub-patient*.nii.gz\")\n",
        "\n",
        "control_data = np.array([process_scan(path) for path in glob_path_control])\n",
        "patient_data = np.array([process_scan(path) for path in glob_path_patient])\n",
        "\n",
        "\n",
        "control_labels = np.array([1 for _ in range(len(control_data))])\n",
        "patient_labels = np.array([0 for _ in range(len(patient_data))])\n",
        "\n",
        "\n",
        "X = np.concatenate((control_data, patient_data), axis=0)\n",
        "print(\"Dataset Shape : \", X.shape)\n",
        "Y = np.concatenate((control_labels, patient_labels), axis=0)\n",
        "print(\"Label Shape : \", Y.shape)"
      ],
      "metadata": {
        "colab": {
          "base_uri": "https://localhost:8080/"
        },
        "id": "vYWigslkhgx7",
        "outputId": "1ebacaa3-2e87-474d-d839-44f1ccda840e"
      },
      "execution_count": 5,
      "outputs": [
        {
          "output_type": "stream",
          "name": "stdout",
          "text": [
            "Dataset Shape :  (83, 128, 128, 64)\n",
            "Label Shape :  (83,)\n"
          ]
        }
      ]
    },
    {
      "cell_type": "markdown",
      "source": [
        "## 2.3. Train-Test Dataset"
      ],
      "metadata": {
        "id": "QrngL-2OSMJY"
      }
    },
    {
      "cell_type": "code",
      "source": [
        "from keras.utils import to_categorical\n",
        "from sklearn.model_selection import train_test_split\n",
        "\n",
        "Y = to_categorical(Y, num_classes=2)\n",
        "\n",
        "# Split the data\n",
        "x_train, x_test, y_train, y_test = train_test_split(X, Y, test_size=0.20, random_state=42)\n",
        "\n",
        "print(\"X_train : \", x_train.shape)\n",
        "print(\"X_test : \", x_test.shape)\n",
        "print(\"Y_train : \", y_train.shape)\n",
        "print(\"Y_test : \", y_test.shape)"
      ],
      "metadata": {
        "colab": {
          "base_uri": "https://localhost:8080/"
        },
        "id": "AxOhlcPijtS8",
        "outputId": "b3423f16-8d4b-4909-d786-a784dd0f3e32"
      },
      "execution_count": 6,
      "outputs": [
        {
          "output_type": "stream",
          "name": "stdout",
          "text": [
            "X_train :  (66, 128, 128, 64)\n",
            "X_test :  (17, 128, 128, 64)\n",
            "Y_train :  (66, 2)\n",
            "Y_test :  (17, 2)\n"
          ]
        }
      ]
    },
    {
      "cell_type": "markdown",
      "source": [
        "# 3. Augmentation"
      ],
      "metadata": {
        "id": "7GohaXDdSSOV"
      }
    },
    {
      "cell_type": "code",
      "source": [
        "import random\n",
        "\n",
        "from scipy import ndimage\n",
        "\n",
        "\n",
        "@tf.function\n",
        "def rotate(volume):\n",
        "    \"\"\"Rotate the volume by a few degrees\"\"\"\n",
        "\n",
        "    def scipy_rotate(volume):\n",
        "        # define some rotation angles\n",
        "        angles = [-20, -10, -5, 5, 10, 20]\n",
        "        # pick angles at random\n",
        "        angle = random.choice(angles)\n",
        "        # rotate volume\n",
        "        volume = ndimage.rotate(volume, angle, reshape=False)\n",
        "        volume[volume < 0] = 0\n",
        "        volume[volume > 1] = 1\n",
        "        return volume\n",
        "\n",
        "    augmented_volume = tf.numpy_function(scipy_rotate, [volume], tf.float32)\n",
        "    return augmented_volume\n",
        "\n",
        "\n",
        "def train_preprocessing(volume, label):\n",
        "    \"\"\"Process training data by rotating and adding a channel.\"\"\"\n",
        "    # Rotate volume\n",
        "    volume = rotate(volume)\n",
        "    volume = tf.expand_dims(volume, axis=3)\n",
        "    return volume, label\n",
        "\n",
        "\n",
        "def validation_preprocessing(volume, label):\n",
        "    \"\"\"Process validation data by only adding a channel.\"\"\"\n",
        "    volume = tf.expand_dims(volume, axis=3)\n",
        "    return volume, label\n"
      ],
      "metadata": {
        "id": "2EIs7a1dkMGW"
      },
      "execution_count": 7,
      "outputs": []
    },
    {
      "cell_type": "markdown",
      "source": [
        "## 3.2. Dataloader"
      ],
      "metadata": {
        "id": "3vmlFGP4SYUR"
      }
    },
    {
      "cell_type": "code",
      "source": [
        "# Define data loaders.\n",
        "train_loader = tf.data.Dataset.from_tensor_slices((x_train, y_train))\n",
        "validation_loader = tf.data.Dataset.from_tensor_slices((x_test, y_test))\n",
        "\n",
        "batch_size = 2\n",
        "\n",
        "# this will be ultimately be fed into the model\n",
        "train_dataset = (\n",
        "    train_loader.shuffle(len(x_train))\n",
        "    .map(train_preprocessing)\n",
        "    .batch(batch_size)\n",
        "    .prefetch(2)\n",
        ")\n",
        "# Only rescale.\n",
        "validation_dataset = (\n",
        "    validation_loader.shuffle(len(x_test))\n",
        "    .map(validation_preprocessing)\n",
        "    .batch(batch_size)\n",
        "    .prefetch(2)\n",
        ")"
      ],
      "metadata": {
        "id": "0weJ2yvNkNYr"
      },
      "execution_count": 8,
      "outputs": []
    },
    {
      "cell_type": "markdown",
      "source": [
        "## 3.3. Visualizing Augmented Data"
      ],
      "metadata": {
        "id": "nTu1pGAIScoW"
      }
    },
    {
      "cell_type": "code",
      "source": [
        "import matplotlib.pyplot as plt\n",
        "\n",
        "data = train_dataset.take(1)\n",
        "images, labels = list(data)[0]\n",
        "images = images.numpy()\n",
        "image = images[0]\n",
        "print(\"Dimension of the MRI scan is:\", image.shape)\n",
        "plt.imshow(np.squeeze(image[:, :, 30]), cmap=\"gray\")"
      ],
      "metadata": {
        "colab": {
          "base_uri": "https://localhost:8080/",
          "height": 469
        },
        "id": "zryXsc8fkQvT",
        "outputId": "a75337f8-b7cb-4883-af93-09ca1843f833"
      },
      "execution_count": 9,
      "outputs": [
        {
          "output_type": "stream",
          "name": "stdout",
          "text": [
            "Dimension of the MRI scan is: (128, 128, 64, 1)\n"
          ]
        },
        {
          "output_type": "execute_result",
          "data": {
            "text/plain": [
              "<matplotlib.image.AxesImage at 0x7c35399dac50>"
            ]
          },
          "metadata": {},
          "execution_count": 9
        },
        {
          "output_type": "display_data",
          "data": {
            "text/plain": [
              "<Figure size 640x480 with 1 Axes>"
            ],
            "image/png": "[encoded data removed]"
          },
          "metadata": {}
        }
      ]
    },
    {
      "cell_type": "markdown",
      "source": [
        "# 4. Models"
      ],
      "metadata": {
        "id": "BCp3yshbShpW"
      }
    },
    {
      "cell_type": "markdown",
      "source": [
        "## 4.1. Resnet 18"
      ],
      "metadata": {
        "id": "8L6psOFDSoYS"
      }
    },
    {
      "cell_type": "markdown",
      "source": [
        "### 4.1.1. Architecture"
      ],
      "metadata": {
        "id": "6fnq7kOHSuao"
      }
    },
    {
      "cell_type": "code",
      "source": [
        "from tensorflow.keras import layers, models\n",
        "def identity_block(input_tensor, kernel_size, filters, stage, block):\n",
        "    filters1, filters2, filters3 = filters\n",
        "\n",
        "    conv_name_base = 'res' + str(stage) + block + '_branch'\n",
        "    bn_name_base = 'bn' + str(stage) + block + '_branch'\n",
        "\n",
        "    x = layers.Conv3D(filters1, (1, 1, 1), name=conv_name_base + '2a')(input_tensor)\n",
        "    x = layers.BatchNormalization(name=bn_name_base + '2a')(x)\n",
        "    x = layers.Activation('relu')(x)\n",
        "\n",
        "    x = layers.Conv3D(filters2, kernel_size, padding='same', name=conv_name_base + '2b')(x)\n",
        "    x = layers.BatchNormalization(name=bn_name_base + '2b')(x)\n",
        "    x = layers.Activation('relu')(x)\n",
        "\n",
        "    x = layers.Conv3D(filters3, (1, 1, 1), name=conv_name_base + '2c')(x)\n",
        "    x = layers.BatchNormalization(name=bn_name_base + '2c')(x)\n",
        "\n",
        "    x = layers.add([x, input_tensor])\n",
        "    x = layers.Activation('relu')(x)\n",
        "    return x\n",
        "\n",
        "def conv_block(input_tensor, kernel_size, filters, stage, block, strides=(2, 2, 2)):\n",
        "    filters1, filters2, filters3 = filters\n",
        "\n",
        "    conv_name_base = 'res' + str(stage) + block + '_branch'\n",
        "    bn_name_base = 'bn' + str(stage) + block + '_branch'\n",
        "\n",
        "    x = layers.Conv3D(filters1, (1, 1, 1), strides=strides, name=conv_name_base + '2a')(input_tensor)\n",
        "    x = layers.BatchNormalization(name=bn_name_base + '2a')(x)\n",
        "    x = layers.Activation('relu')(x)\n",
        "\n",
        "    x = layers.Conv3D(filters2, kernel_size, padding='same', name=conv_name_base + '2b')(x)\n",
        "    x = layers.BatchNormalization(name=bn_name_base + '2b')(x)\n",
        "    x = layers.Activation('relu')(x)\n",
        "\n",
        "    x = layers.Conv3D(filters3, (1, 1, 1), name=conv_name_base + '2c')(x)\n",
        "    x = layers.BatchNormalization(name=bn_name_base + '2c')(x)\n",
        "\n",
        "    shortcut = layers.Conv3D(filters3, (1, 1, 1), strides=strides, name=conv_name_base + '1')(input_tensor)\n",
        "    shortcut = layers.BatchNormalization(name=bn_name_base + '1')(shortcut)\n",
        "\n",
        "    x = layers.add([x, shortcut])\n",
        "    x = layers.Activation('relu')(x)\n",
        "    return x\n",
        "\n",
        "def build_resnet18_3d(input_shape=(32, 32, 32, 1), num_classes=2):\n",
        "    input_tensor = tf.keras.Input(shape=input_shape)\n",
        "\n",
        "    x = layers.ZeroPadding3D(padding=(3, 3, 3))(input_tensor)\n",
        "    x = layers.Conv3D(64, (7, 7, 7), strides=(2, 2, 2), name='conv1')(x)\n",
        "    x = layers.BatchNormalization(name='bn_conv1')(x)\n",
        "    x = layers.Activation('relu')(x)\n",
        "    x = layers.ZeroPadding3D(padding=(1, 1, 1))(x)\n",
        "    x = layers.MaxPooling3D((3, 3, 3), strides=(2, 2, 2))(x)\n",
        "\n",
        "    x = conv_block(x, 3, [64, 64, 256], stage=2, block='a', strides=(1, 1, 1))\n",
        "    x = identity_block(x, 3, [64, 64, 256], stage=2, block='b')\n",
        "    x = identity_block(x, 3, [64, 64, 256], stage=2, block='c')\n",
        "\n",
        "    x = conv_block(x, 3, [128, 128, 512], stage=3, block='a')\n",
        "    x = identity_block(x, 3, [128, 128, 512], stage=3, block='b')\n",
        "    x = identity_block(x, 3, [128, 128, 512], stage=3, block='c')\n",
        "    x = identity_block(x, 3, [128, 128, 512], stage=3, block='d')\n",
        "\n",
        "    x = conv_block(x, 3, [256, 256, 1024], stage=4, block='a')\n",
        "    x = identity_block(x, 3, [256, 256, 1024], stage=4, block='b')\n",
        "    x = identity_block(x, 3, [256, 256, 1024], stage=4, block='c')\n",
        "    x = identity_block(x, 3, [256, 256, 1024], stage=4, block='d')\n",
        "    x = identity_block(x, 3, [256, 256, 1024], stage=4, block='e')\n",
        "    x = identity_block(x, 3, [256, 256, 1024], stage=4, block='f')\n",
        "\n",
        "    x = conv_block(x, 3, [512, 512, 2048], stage=5, block='a')\n",
        "    x = identity_block(x, 3, [512, 512, 2048], stage=5, block='b')\n",
        "    x = identity_block(x, 3, [512, 512, 2048], stage=5, block='c')\n",
        "\n",
        "    x = layers.GlobalAveragePooling3D(name='avg_pool')(x)\n",
        "    x = layers.Dense(num_classes, activation='softmax', name='fc')(x)\n",
        "\n",
        "    model = models.Model(input_tensor, x, name='resnet18_3d')\n",
        "    return model\n",
        "model = build_resnet18_3d(input_shape=(128, 128, 64, 1), num_classes=2)\n",
        "model.summary"
      ],
      "metadata": {
        "colab": {
          "base_uri": "https://localhost:8080/"
        },
        "id": "EL2MAwtpkjn0",
        "outputId": "fa3bc65f-edc3-4803-988b-5313650b1293"
      },
      "execution_count": 12,
      "outputs": [
        {
          "output_type": "execute_result",
          "data": {
            "text/plain": [
              "<bound method Model.summary of <keras.src.engine.functional.Functional object at 0x7c3538f26110>>"
            ]
          },
          "metadata": {},
          "execution_count": 12
        }
      ]
    },
    {
      "cell_type": "markdown",
      "source": [
        "### 4.1.2. Model Compile"
      ],
      "metadata": {
        "id": "BL2SEqzoSy1_"
      }
    },
    {
      "cell_type": "code",
      "source": [
        "# Compile model.\n",
        "initial_learning_rate = 0.0001\n",
        "lr_schedule = keras.optimizers.schedules.ExponentialDecay(\n",
        "    initial_learning_rate, decay_steps=100000, decay_rate=0.96, staircase=True\n",
        ")\n",
        "model.compile(\n",
        "    loss=\"binary_crossentropy\",\n",
        "    optimizer=keras.optimizers.Adam(learning_rate=lr_schedule),\n",
        "    metrics=[\"acc\"],\n",
        ")\n",
        "\n",
        "# Define callbacks.\n",
        "checkpoint_cb = keras.callbacks.ModelCheckpoint(\n",
        "    \"3d_image_classification.h5\", save_best_only=True\n",
        ")\n",
        "early_stopping_cb = keras.callbacks.EarlyStopping(monitor=\"val_acc\", patience=50)\n",
        "\n",
        "# Train the model, doing validation at the end of each epoch\n",
        "epochs = 250\n",
        "history = model.fit(\n",
        "    train_dataset,\n",
        "    validation_data=validation_dataset,\n",
        "    epochs=epochs,\n",
        "    shuffle=True,\n",
        "    verbose=2,\n",
        "    callbacks=[checkpoint_cb, early_stopping_cb]\n",
        ")"
      ],
      "metadata": {
        "id": "BYSH2AmgkkzS"
      },
      "execution_count": null,
      "outputs": []
    },
    {
      "cell_type": "markdown",
      "source": [
        "### 4.1.3. Result Visualization"
      ],
      "metadata": {
        "id": "9I_DvR1vS5Qc"
      }
    },
    {
      "cell_type": "code",
      "source": [
        "import matplotlib.pyplot as plt\n",
        "\n",
        "plt.plot(history.history['acc'], label='accuracy')\n",
        "plt.plot(history.history['val_acc'], label='val_accuracy')\n",
        "plt.xlabel('Epoch')\n",
        "plt.ylabel('Accuracy')\n",
        "plt.legend()\n",
        "plt.show()"
      ],
      "metadata": {
        "id": "N6VmGpmukwVM"
      },
      "execution_count": null,
      "outputs": []
    },
    {
      "cell_type": "code",
      "source": [
        "# Calculate average accuracy\n",
        "\n",
        "train_accuracy = history.history['acc']\n",
        "val_accuracy = history.history['val_acc']\n",
        "print(max(val_accuracy))\n",
        "average_train_accuracy = sum(train_accuracy) / len(train_accuracy)\n",
        "average_val_accuracy = sum(val_accuracy) / len(val_accuracy)\n",
        "\n",
        "print(\"Resnet 34\")\n",
        "print(f'Average Training Accuracy: {average_train_accuracy}')\n",
        "print(f'Average Validation Accuracy: {average_val_accuracy}')"
      ],
      "metadata": {
        "id": "fsMJnf9hk1uz"
      },
      "execution_count": null,
      "outputs": []
    },
    {
      "cell_type": "markdown",
      "source": [
        "## 4.2. ResNet 34"
      ],
      "metadata": {
        "id": "8odE_Qngk8oy"
      }
    },
    {
      "cell_type": "markdown",
      "source": [
        "### 4.2.1 Architecture"
      ],
      "metadata": {
        "id": "nPzxrRznTENn"
      }
    },
    {
      "cell_type": "code",
      "source": [
        "import tensorflow as tf\n",
        "from tensorflow.keras import layers, models\n",
        "\n",
        "def identity_block(input_tensor, kernel_size, filters, stage, block):\n",
        "    filters1, filters2, filters3 = filters\n",
        "\n",
        "    conv_name_base = f'res{stage}{block}_branch'\n",
        "    bn_name_base = f'bn{stage}{block}_branch'\n",
        "\n",
        "    x = layers.Conv3D(filters1, (1, 1, 1), name=f'{conv_name_base}2a')(input_tensor)\n",
        "    x = layers.BatchNormalization(name=f'{bn_name_base}2a')(x)\n",
        "    x = layers.Activation('relu')(x)\n",
        "\n",
        "    x = layers.Conv3D(filters2, kernel_size, padding='same', name=f'{conv_name_base}2b')(x)\n",
        "    x = layers.BatchNormalization(name=f'{bn_name_base}2b')(x)\n",
        "    x = layers.Activation('relu')(x)\n",
        "\n",
        "    x = layers.Conv3D(filters3, (1, 1, 1), name=f'{conv_name_base}2c')(x)\n",
        "    x = layers.BatchNormalization(name=f'{bn_name_base}2c')(x)\n",
        "\n",
        "    x = layers.add([x, input_tensor])\n",
        "    x = layers.Activation('relu')(x)\n",
        "    return x\n",
        "\n",
        "def conv_block(input_tensor, kernel_size, filters, stage, block, strides=(2, 2, 2)):\n",
        "    filters1, filters2, filters3 = filters\n",
        "\n",
        "    conv_name_base = f'res{stage}{block}_branch'\n",
        "    bn_name_base = f'bn{stage}{block}_branch'\n",
        "\n",
        "    x = layers.Conv3D(filters1, (1, 1, 1), strides=strides, name=f'{conv_name_base}2a')(input_tensor)\n",
        "    x = layers.BatchNormalization(name=f'{bn_name_base}2a')(x)\n",
        "    x = layers.Activation('relu')(x)\n",
        "\n",
        "    x = layers.Conv3D(filters2, kernel_size, padding='same', name=f'{conv_name_base}2b')(x)\n",
        "    x = layers.BatchNormalization(name=f'{bn_name_base}2b')(x)\n",
        "    x = layers.Activation('relu')(x)\n",
        "\n",
        "    x = layers.Conv3D(filters3, (1, 1, 1), name=f'{conv_name_base}2c')(x)\n",
        "    x = layers.BatchNormalization(name=f'{bn_name_base}2c')(x)\n",
        "\n",
        "    shortcut = layers.Conv3D(filters3, (1, 1, 1), strides=strides, name=f'{conv_name_base}1')(input_tensor)\n",
        "    shortcut = layers.BatchNormalization(name=f'{bn_name_base}1')(shortcut)\n",
        "\n",
        "    x = layers.add([x, shortcut])\n",
        "    x = layers.Activation('relu')(x)\n",
        "    return x\n",
        "\n",
        "def build_resnet34_3d(input_shape=(32, 32, 32, 1), num_classes=2):\n",
        "    input_tensor = tf.keras.Input(shape=input_shape)\n",
        "\n",
        "    x = layers.ZeroPadding3D(padding=(3, 3, 3))(input_tensor)\n",
        "    x = layers.Conv3D(64, (7, 7, 7), strides=(2, 2, 2), name='conv1')(x)\n",
        "    x = layers.BatchNormalization(name='bn_conv1')(x)\n",
        "    x = layers.Activation('relu')(x)\n",
        "    x = layers.ZeroPadding3D(padding=(1, 1, 1))(x)\n",
        "    x = layers.MaxPooling3D((3, 3, 3), strides=(2, 2, 2))(x)\n",
        "\n",
        "    x = conv_block(x, 3, [64, 64, 256], stage=2, block='a', strides=(1, 1, 1))\n",
        "    x = identity_block(x, 3, [64, 64, 256], stage=2, block='b')\n",
        "    x = identity_block(x, 3, [64, 64, 256], stage=2, block='c')\n",
        "    x = identity_block(x, 3, [64, 64, 256], stage=2, block='d')\n",
        "\n",
        "    x = conv_block(x, 3, [128, 128, 512], stage=3, block='a')\n",
        "    x = identity_block(x, 3, [128, 128, 512], stage=3, block='b')\n",
        "    x = identity_block(x, 3, [128, 128, 512], stage=3, block='c')\n",
        "    x = identity_block(x, 3, [128, 128, 512], stage=3, block='d')\n",
        "\n",
        "    x = conv_block(x, 3, [256, 256, 1024], stage=4, block='a')\n",
        "    x = identity_block(x, 3, [256, 256, 1024], stage=4, block='b')\n",
        "    x = identity_block(x, 3, [256, 256, 1024], stage=4, block='c')\n",
        "    x = identity_block(x, 3, [256, 256, 1024], stage=4, block='d')\n",
        "    x = identity_block(x, 3, [256, 256, 1024], stage=4, block='e')\n",
        "    x = identity_block(x, 3, [256, 256, 1024], stage=4, block='f')\n",
        "\n",
        "    x = conv_block(x, 3, [512, 512, 2048], stage=5, block='a')\n",
        "    x = identity_block(x, 3, [512, 512, 2048], stage=5, block='b')\n",
        "    x = identity_block(x, 3, [512, 512, 2048], stage=5, block='c')\n",
        "\n",
        "    x = layers.GlobalAveragePooling3D(name='avg_pool')(x)\n",
        "    x = layers.Dense(num_classes, activation='softmax', name='fc')(x)\n",
        "\n",
        "    model = models.Model(input_tensor, x, name='resnet34_3d')\n",
        "    return model\n",
        "model2 = build_resnet34_3d(input_shape=(128, 128, 64, 1), num_classes=2)\n",
        "model2.summary()"
      ],
      "metadata": {
        "id": "0MWiELw-lBqh"
      },
      "execution_count": null,
      "outputs": []
    },
    {
      "cell_type": "markdown",
      "source": [
        "### 4.2.2. Model Compile"
      ],
      "metadata": {
        "id": "dgWdPtqRTKBM"
      }
    },
    {
      "cell_type": "code",
      "source": [
        "# Compile model.\n",
        "initial_learning_rate = 0.0001\n",
        "lr_schedule = keras.optimizers.schedules.ExponentialDecay(\n",
        "    initial_learning_rate, decay_steps=100000, decay_rate=0.96, staircase=True\n",
        ")\n",
        "model.compile(\n",
        "    loss=\"binary_crossentropy\",\n",
        "    optimizer=keras.optimizers.Adam(learning_rate=lr_schedule),\n",
        "    metrics=[\"acc\"],\n",
        ")\n",
        "\n",
        "# Define callbacks.\n",
        "checkpoint_cb = keras.callbacks.ModelCheckpoint(\n",
        "    \"3d_image_classification.h5\", save_best_only=True\n",
        ")\n",
        "early_stopping_cb = keras.callbacks.EarlyStopping(monitor=\"val_acc\", patience=50)\n",
        "\n",
        "# Train the model, doing validation at the end of each epoch\n",
        "epochs = 150\n",
        "history = model.fit(\n",
        "    train_dataset,\n",
        "    validation_data=validation_dataset,\n",
        "    epochs=epochs,\n",
        "    shuffle=True,\n",
        "    verbose=2,\n",
        "    callbacks=[checkpoint_cb, early_stopping_cb],\n",
        ")"
      ],
      "metadata": {
        "id": "GK8-FQcYlMv4"
      },
      "execution_count": null,
      "outputs": []
    },
    {
      "cell_type": "markdown",
      "source": [
        "### 4.2.3. Result"
      ],
      "metadata": {
        "id": "dz0Tc8AoTN7F"
      }
    },
    {
      "cell_type": "code",
      "source": [
        "# Calculate average accuracy\n",
        "\n",
        "train_accuracy = history.history['acc']\n",
        "val_accuracy = history.history['val_acc']\n",
        "print(max(val_accuracy))\n",
        "average_train_accuracy = sum(train_accuracy) / len(train_accuracy)\n",
        "average_val_accuracy = sum(val_accuracy) / len(val_accuracy)\n",
        "\n",
        "print(\"Resnet 34\")\n",
        "print(f'Average Training Accuracy: {average_train_accuracy}')\n",
        "print(f'Average Validation Accuracy: {average_val_accuracy}')"
      ],
      "metadata": {
        "id": "784u2fGglW23"
      },
      "execution_count": null,
      "outputs": []
    },
    {
      "cell_type": "code",
      "source": [
        "\n",
        "import matplotlib.pyplot as plt\n",
        "plt.plot(history.history['acc'], label='accuracy')\n",
        "plt.plot(history.history['val_acc'], label='val_accuracy')\n",
        "plt.xlabel('Epoch')\n",
        "plt.ylabel('Accuracy')\n",
        "plt.legend()\n",
        "plt.show()"
      ],
      "metadata": {
        "id": "CGADiaK7leXB"
      },
      "execution_count": null,
      "outputs": []
    },
    {
      "cell_type": "markdown",
      "source": [
        "## ResNet with self attention"
      ],
      "metadata": {
        "id": "V3aNs-iOcwpL"
      }
    },
    {
      "cell_type": "code",
      "source": [
        "from tensorflow.keras.layers import Input, Conv3D, BatchNormalization, ReLU, Dense, GlobalAveragePooling3D, Add\n",
        "def residual_block(x, filters, kernel_size=3, strides=1, use_attention=True):\n",
        "    # Convolutional layers\n",
        "    residual = x\n",
        "    x = Conv3D(filters, kernel_size=kernel_size, strides=strides, padding='same', kernel_regularizer=tf.keras.regularizers.l2(0.2))(x)\n",
        "    x = BatchNormalization()(x)\n",
        "    x = ReLU()(x)\n",
        "    x = tf.keras.layers.Dropout(0.5)(x)\n",
        "\n",
        "    if use_attention:\n",
        "        x = attention_block(x)\n",
        "\n",
        "    x = Conv3D(filters, kernel_size=kernel_size, strides=1, padding='same')(x)\n",
        "    x = BatchNormalization()(x)\n",
        "\n",
        "    if strides > 1:\n",
        "        residual = Conv3D(filters, kernel_size=1, strides=strides, padding='same')(residual)\n",
        "\n",
        "    # Residual connection\n",
        "    x = Add()([residual, x])\n",
        "    x = ReLU()(x)\n",
        "    return x\n",
        "\n",
        "def attention_block(x):\n",
        "    channels = x.shape[-1]\n",
        "    attention = Dense(channels, activation='softmax', kernel_regularizer=tf.keras.regularizers.l2(0.2))(x)\n",
        "    x = tf.multiply(x, attention)\n",
        "    return x\n",
        "\n",
        "def build_3d_resnet(input_shape, num_classes, use_attention=True):\n",
        "    input_tensor = Input(shape=input_shape)\n",
        "\n",
        "    # Initial Convolutional Layer\n",
        "    x = Conv3D(64, kernel_size=7, strides=2, padding='same')(input_tensor)\n",
        "    x = BatchNormalization()(x)\n",
        "    x = ReLU()(x)\n",
        "\n",
        "    # Residual blocks\n",
        "    for _ in range(3):\n",
        "        x = residual_block(x, filters=64, use_attention=use_attention)\n",
        "\n",
        "    x = residual_block(x, filters=128, strides=2, use_attention=use_attention)\n",
        "    for _ in range(3):\n",
        "        x = residual_block(x, filters=128, use_attention=use_attention)\n",
        "\n",
        "    x = residual_block(x, filters=256, strides=2, use_attention=use_attention)\n",
        "    for _ in range(3):\n",
        "        x = residual_block(x, filters=256, use_attention=use_attention)\n",
        "\n",
        "    x = GlobalAveragePooling3D()(x)\n",
        "    output_tensor = Dense(num_classes, activation='softmax')(x)\n",
        "\n",
        "    model = tf.keras.Model(inputs=input_tensor, outputs=output_tensor)\n",
        "    return model\n",
        "\n",
        "\n",
        "input_shape = (128, 128, 64, 1)\n",
        "num_classes = 2\n",
        "model = build_3d_resnet(input_shape, num_classes, use_attention=True)\n",
        "\n",
        "model.summary()\n"
      ],
      "metadata": {
        "id": "baK7vU3nYZ0A"
      },
      "execution_count": null,
      "outputs": []
    },
    {
      "cell_type": "code",
      "source": [
        "# Compile model.\n",
        "initial_learning_rate = 0.0001\n",
        "lr_schedule = keras.optimizers.schedules.ExponentialDecay(\n",
        "    initial_learning_rate, decay_steps=100000, decay_rate=0.96, staircase=True\n",
        ")\n",
        "model.compile(\n",
        "    loss=\"binary_crossentropy\",\n",
        "    optimizer=keras.optimizers.Adam(learning_rate=lr_schedule),\n",
        "    metrics=[\"acc\"],\n",
        ")\n",
        "\n",
        "# Define callbacks.\n",
        "checkpoint_cb = keras.callbacks.ModelCheckpoint(\n",
        "    \"3d_image_classification.h5\", save_best_only=True\n",
        ")\n",
        "\n",
        "early_stopping = tf.keras.callbacks.EarlyStopping(monitor='val_loss', patience=50, restore_best_weights=True)\n",
        "\n",
        "\n",
        "# Train the model, doing validation at the end of each epoch\n",
        "epochs = 100\n",
        "history = model.fit(\n",
        "    train_dataset,\n",
        "    validation_data=validation_dataset,\n",
        "     epochs=epochs,\n",
        "    shuffle=True,\n",
        "    verbose=2,\n",
        "    callbacks=[checkpoint_cb, early_stopping]\n",
        ")"
      ],
      "metadata": {
        "colab": {
          "base_uri": "https://localhost:8080/"
        },
        "id": "rzB99ffY_2rn",
        "outputId": "73510b48-7b17-4a61-d8c3-6d5eba3e5d28"
      },
      "execution_count": 18,
      "outputs": [
        {
          "output_type": "stream",
          "name": "stdout",
          "text": [
            "Epoch 1/100\n"
          ]
        },
        {
          "output_type": "stream",
          "name": "stderr",
          "text": [
            "/usr/local/lib/python3.10/dist-packages/keras/src/engine/training.py:3103: UserWarning:\n",
            "\n",
            "You are saving your model as an HDF5 file via `model.save()`. This file format is considered legacy. We recommend using instead the native Keras format, e.g. `model.save('my_model.keras')`.\n",
            "\n"
          ]
        },
        {
          "output_type": "stream",
          "name": "stdout",
          "text": [
            "33/33 - 70s - loss: 612.3812 - acc: 0.4697 - val_loss: 560.8685 - val_acc: 0.3529 - 70s/epoch - 2s/step\n",
            "Epoch 2/100\n",
            "33/33 - 32s - loss: 521.1310 - acc: 0.6364 - val_loss: 483.4979 - val_acc: 0.3529 - 32s/epoch - 972ms/step\n",
            "Epoch 3/100\n",
            "33/33 - 32s - loss: 453.9549 - acc: 0.5152 - val_loss: 425.0735 - val_acc: 0.3529 - 32s/epoch - 958ms/step\n",
            "Epoch 4/100\n",
            "33/33 - 31s - loss: 401.5390 - acc: 0.6212 - val_loss: 378.3503 - val_acc: 0.3529 - 31s/epoch - 948ms/step\n",
            "Epoch 5/100\n",
            "33/33 - 32s - loss: 359.2233 - acc: 0.6212 - val_loss: 340.3438 - val_acc: 0.3529 - 32s/epoch - 966ms/step\n",
            "Epoch 6/100\n",
            "33/33 - 32s - loss: 324.5936 - acc: 0.6212 - val_loss: 308.9625 - val_acc: 0.3529 - 32s/epoch - 981ms/step\n",
            "Epoch 7/100\n",
            "33/33 - 31s - loss: 295.4652 - acc: 0.5758 - val_loss: 282.0195 - val_acc: 0.3529 - 31s/epoch - 953ms/step\n",
            "Epoch 8/100\n",
            "33/33 - 32s - loss: 270.2585 - acc: 0.5303 - val_loss: 258.5164 - val_acc: 0.3529 - 32s/epoch - 970ms/step\n",
            "Epoch 9/100\n",
            "33/33 - 32s - loss: 248.0933 - acc: 0.6212 - val_loss: 237.7373 - val_acc: 0.3529 - 32s/epoch - 962ms/step\n",
            "Epoch 10/100\n",
            "33/33 - 32s - loss: 228.3607 - acc: 0.6061 - val_loss: 219.1613 - val_acc: 0.3529 - 32s/epoch - 963ms/step\n",
            "Epoch 11/100\n",
            "33/33 - 32s - loss: 210.7069 - acc: 0.5909 - val_loss: 202.4273 - val_acc: 0.3529 - 32s/epoch - 977ms/step\n",
            "Epoch 12/100\n",
            "33/33 - 32s - loss: 194.6727 - acc: 0.5909 - val_loss: 187.1351 - val_acc: 0.3529 - 32s/epoch - 972ms/step\n",
            "Epoch 13/100\n",
            "33/33 - 33s - loss: 179.9682 - acc: 0.6212 - val_loss: 173.1262 - val_acc: 0.3529 - 33s/epoch - 988ms/step\n",
            "Epoch 14/100\n",
            "33/33 - 31s - loss: 166.6849 - acc: 0.5303 - val_loss: 160.6076 - val_acc: 0.3529 - 31s/epoch - 954ms/step\n",
            "Epoch 15/100\n",
            "33/33 - 32s - loss: 154.5498 - acc: 0.5606 - val_loss: 148.7751 - val_acc: 0.3529 - 32s/epoch - 983ms/step\n",
            "Epoch 16/100\n",
            "33/33 - 32s - loss: 143.2501 - acc: 0.6212 - val_loss: 138.0104 - val_acc: 0.3529 - 32s/epoch - 962ms/step\n",
            "Epoch 17/100\n",
            "33/33 - 32s - loss: 132.8741 - acc: 0.5909 - val_loss: 127.9820 - val_acc: 0.3529 - 32s/epoch - 958ms/step\n",
            "Epoch 18/100\n",
            "33/33 - 32s - loss: 123.2654 - acc: 0.6061 - val_loss: 118.6818 - val_acc: 0.2941 - 32s/epoch - 976ms/step\n",
            "Epoch 19/100\n",
            "33/33 - 32s - loss: 114.4465 - acc: 0.6212 - val_loss: 110.3294 - val_acc: 0.3529 - 32s/epoch - 971ms/step\n",
            "Epoch 20/100\n",
            "33/33 - 32s - loss: 106.2379 - acc: 0.6212 - val_loss: 102.5581 - val_acc: 0.3529 - 32s/epoch - 970ms/step\n",
            "Epoch 21/100\n",
            "33/33 - 32s - loss: 98.6476 - acc: 0.6212 - val_loss: 95.2676 - val_acc: 0.3529 - 32s/epoch - 965ms/step\n",
            "Epoch 22/100\n",
            "33/33 - 32s - loss: 91.6276 - acc: 0.6212 - val_loss: 88.2797 - val_acc: 0.6471 - 32s/epoch - 964ms/step\n",
            "Epoch 23/100\n",
            "33/33 - 32s - loss: 85.1562 - acc: 0.5606 - val_loss: 84.0497 - val_acc: 0.3529 - 32s/epoch - 958ms/step\n",
            "Epoch 24/100\n",
            "33/33 - 31s - loss: 79.1707 - acc: 0.5606 - val_loss: 98.4952 - val_acc: 0.3529 - 31s/epoch - 941ms/step\n",
            "Epoch 25/100\n",
            "33/33 - 31s - loss: 73.5962 - acc: 0.6515 - val_loss: 166.4101 - val_acc: 0.6471 - 31s/epoch - 951ms/step\n",
            "Epoch 26/100\n",
            "33/33 - 32s - loss: 68.5688 - acc: 0.6212 - val_loss: 67.2322 - val_acc: 0.6471 - 32s/epoch - 972ms/step\n",
            "Epoch 27/100\n",
            "33/33 - 31s - loss: 63.8158 - acc: 0.6515 - val_loss: 81.8732 - val_acc: 0.6471 - 31s/epoch - 944ms/step\n",
            "Epoch 28/100\n",
            "33/33 - 32s - loss: 59.3860 - acc: 0.5909 - val_loss: 59.6103 - val_acc: 0.6471 - 32s/epoch - 967ms/step\n",
            "Epoch 29/100\n",
            "33/33 - 32s - loss: 55.3319 - acc: 0.5758 - val_loss: 54.7010 - val_acc: 0.3529 - 32s/epoch - 964ms/step\n",
            "Epoch 30/100\n",
            "33/33 - 31s - loss: 51.4858 - acc: 0.5909 - val_loss: 50.0046 - val_acc: 0.5882 - 31s/epoch - 952ms/step\n",
            "Epoch 31/100\n",
            "33/33 - 32s - loss: 47.9325 - acc: 0.6212 - val_loss: 47.0940 - val_acc: 0.3529 - 32s/epoch - 965ms/step\n",
            "Epoch 32/100\n",
            "33/33 - 32s - loss: 44.7295 - acc: 0.6212 - val_loss: 44.6763 - val_acc: 0.3529 - 32s/epoch - 969ms/step\n",
            "Epoch 33/100\n",
            "33/33 - 32s - loss: 41.6571 - acc: 0.6212 - val_loss: 40.1550 - val_acc: 0.5882 - 32s/epoch - 955ms/step\n",
            "Epoch 34/100\n",
            "33/33 - 32s - loss: 38.8261 - acc: 0.6212 - val_loss: 37.8323 - val_acc: 0.5294 - 32s/epoch - 963ms/step\n",
            "Epoch 35/100\n",
            "33/33 - 31s - loss: 36.2395 - acc: 0.6212 - val_loss: 41.8851 - val_acc: 0.3529 - 31s/epoch - 951ms/step\n",
            "Epoch 36/100\n",
            "33/33 - 32s - loss: 33.7999 - acc: 0.6212 - val_loss: 34.9073 - val_acc: 0.3529 - 32s/epoch - 971ms/step\n",
            "Epoch 37/100\n",
            "33/33 - 32s - loss: 31.5417 - acc: 0.6212 - val_loss: 33.9096 - val_acc: 0.3529 - 32s/epoch - 965ms/step\n",
            "Epoch 38/100\n",
            "33/33 - 32s - loss: 29.4334 - acc: 0.6212 - val_loss: 28.8144 - val_acc: 0.6471 - 32s/epoch - 980ms/step\n",
            "Epoch 39/100\n",
            "33/33 - 32s - loss: 27.5106 - acc: 0.5606 - val_loss: 26.7286 - val_acc: 0.6471 - 32s/epoch - 970ms/step\n",
            "Epoch 40/100\n",
            "33/33 - 32s - loss: 25.7037 - acc: 0.5909 - val_loss: 24.8815 - val_acc: 0.4118 - 32s/epoch - 979ms/step\n",
            "Epoch 41/100\n",
            "33/33 - 33s - loss: 24.0076 - acc: 0.6212 - val_loss: 23.8763 - val_acc: 0.5882 - 33s/epoch - 985ms/step\n",
            "Epoch 42/100\n",
            "33/33 - 32s - loss: 22.4502 - acc: 0.5606 - val_loss: 23.2424 - val_acc: 0.6471 - 32s/epoch - 966ms/step\n",
            "Epoch 43/100\n",
            "33/33 - 32s - loss: 21.0055 - acc: 0.6061 - val_loss: 20.4352 - val_acc: 0.4706 - 32s/epoch - 967ms/step\n",
            "Epoch 44/100\n",
            "33/33 - 31s - loss: 19.6209 - acc: 0.6061 - val_loss: 19.6941 - val_acc: 0.6471 - 31s/epoch - 952ms/step\n",
            "Epoch 45/100\n",
            "33/33 - 32s - loss: 18.4322 - acc: 0.6212 - val_loss: 19.2997 - val_acc: 0.3529 - 32s/epoch - 979ms/step\n",
            "Epoch 46/100\n",
            "33/33 - 31s - loss: 17.2333 - acc: 0.6212 - val_loss: 16.6258 - val_acc: 0.7059 - 31s/epoch - 950ms/step\n",
            "Epoch 47/100\n",
            "33/33 - 31s - loss: 16.1378 - acc: 0.6212 - val_loss: 17.0361 - val_acc: 0.3529 - 31s/epoch - 950ms/step\n",
            "Epoch 48/100\n",
            "33/33 - 32s - loss: 15.1492 - acc: 0.6212 - val_loss: 14.9969 - val_acc: 0.6471 - 32s/epoch - 956ms/step\n",
            "Epoch 49/100\n",
            "33/33 - 31s - loss: 14.1843 - acc: 0.6667 - val_loss: 19.4224 - val_acc: 0.6471 - 31s/epoch - 926ms/step\n",
            "Epoch 50/100\n",
            "33/33 - 32s - loss: 13.3410 - acc: 0.5909 - val_loss: 13.1314 - val_acc: 0.6471 - 32s/epoch - 977ms/step\n",
            "Epoch 51/100\n",
            "33/33 - 31s - loss: 12.5031 - acc: 0.6212 - val_loss: 12.2054 - val_acc: 0.3529 - 31s/epoch - 948ms/step\n",
            "Epoch 52/100\n",
            "33/33 - 31s - loss: 11.7699 - acc: 0.5909 - val_loss: 11.6532 - val_acc: 0.6471 - 31s/epoch - 952ms/step\n",
            "Epoch 53/100\n",
            "33/33 - 31s - loss: 11.0642 - acc: 0.6212 - val_loss: 11.3476 - val_acc: 0.3529 - 31s/epoch - 951ms/step\n",
            "Epoch 54/100\n",
            "33/33 - 31s - loss: 10.3934 - acc: 0.6212 - val_loss: 33.6834 - val_acc: 0.6471 - 31s/epoch - 938ms/step\n",
            "Epoch 55/100\n",
            "33/33 - 31s - loss: 9.8038 - acc: 0.4697 - val_loss: 43.7565 - val_acc: 0.6471 - 31s/epoch - 940ms/step\n",
            "Epoch 56/100\n",
            "33/33 - 31s - loss: 9.1996 - acc: 0.6212 - val_loss: 14.4909 - val_acc: 0.6471 - 31s/epoch - 941ms/step\n",
            "Epoch 57/100\n",
            "33/33 - 31s - loss: 8.6891 - acc: 0.5909 - val_loss: 25.2077 - val_acc: 0.6471 - 31s/epoch - 949ms/step\n",
            "Epoch 58/100\n",
            "33/33 - 32s - loss: 8.1721 - acc: 0.6212 - val_loss: 7.9380 - val_acc: 0.6471 - 32s/epoch - 974ms/step\n",
            "Epoch 59/100\n",
            "33/33 - 32s - loss: 7.6840 - acc: 0.6212 - val_loss: 7.4763 - val_acc: 0.6471 - 32s/epoch - 984ms/step\n",
            "Epoch 60/100\n",
            "33/33 - 31s - loss: 7.2747 - acc: 0.6212 - val_loss: 7.3964 - val_acc: 0.3529 - 31s/epoch - 953ms/step\n",
            "Epoch 61/100\n",
            "33/33 - 32s - loss: 6.8597 - acc: 0.6212 - val_loss: 6.6459 - val_acc: 0.6471 - 32s/epoch - 964ms/step\n",
            "Epoch 62/100\n",
            "33/33 - 33s - loss: 6.4643 - acc: 0.6212 - val_loss: 6.5227 - val_acc: 0.3529 - 33s/epoch - 987ms/step\n",
            "Epoch 63/100\n",
            "33/33 - 31s - loss: 6.1042 - acc: 0.6212 - val_loss: 5.9509 - val_acc: 0.6471 - 31s/epoch - 954ms/step\n",
            "Epoch 64/100\n",
            "33/33 - 31s - loss: 5.7677 - acc: 0.6212 - val_loss: 6.0015 - val_acc: 0.6471 - 31s/epoch - 939ms/step\n",
            "Epoch 65/100\n",
            "33/33 - 31s - loss: 5.4490 - acc: 0.6212 - val_loss: 8.8852 - val_acc: 0.6471 - 31s/epoch - 950ms/step\n",
            "Epoch 66/100\n",
            "33/33 - 32s - loss: 5.1630 - acc: 0.6212 - val_loss: 5.1782 - val_acc: 0.6471 - 32s/epoch - 962ms/step\n",
            "Epoch 67/100\n",
            "33/33 - 31s - loss: 4.9610 - acc: 0.6061 - val_loss: 8.5335 - val_acc: 0.3529 - 31s/epoch - 926ms/step\n",
            "Epoch 68/100\n",
            "33/33 - 31s - loss: 4.6810 - acc: 0.6212 - val_loss: 6.2204 - val_acc: 0.6471 - 31s/epoch - 936ms/step\n",
            "Epoch 69/100\n",
            "33/33 - 31s - loss: 4.4154 - acc: 0.5606 - val_loss: 4.9316 - val_acc: 0.6471 - 31s/epoch - 951ms/step\n",
            "Epoch 70/100\n",
            "33/33 - 31s - loss: 4.1855 - acc: 0.6212 - val_loss: 8.0146 - val_acc: 0.6471 - 31s/epoch - 942ms/step\n",
            "Epoch 71/100\n",
            "33/33 - 32s - loss: 3.9831 - acc: 0.6212 - val_loss: 3.9384 - val_acc: 0.6471 - 32s/epoch - 959ms/step\n",
            "Epoch 72/100\n",
            "33/33 - 31s - loss: 3.7774 - acc: 0.6364 - val_loss: 7.3676 - val_acc: 0.6471 - 31s/epoch - 940ms/step\n",
            "Epoch 73/100\n",
            "33/33 - 31s - loss: 3.5969 - acc: 0.6212 - val_loss: 10.9732 - val_acc: 0.6471 - 31s/epoch - 935ms/step\n",
            "Epoch 74/100\n",
            "33/33 - 31s - loss: 3.4063 - acc: 0.6212 - val_loss: 249.9693 - val_acc: 0.6471 - 31s/epoch - 936ms/step\n",
            "Epoch 75/100\n",
            "33/33 - 30s - loss: 3.2421 - acc: 0.6212 - val_loss: 673.0499 - val_acc: 0.6471 - 30s/epoch - 923ms/step\n",
            "Epoch 76/100\n",
            "33/33 - 30s - loss: 3.1079 - acc: 0.6212 - val_loss: 88.7356 - val_acc: 0.6471 - 30s/epoch - 924ms/step\n",
            "Epoch 77/100\n",
            "33/33 - 30s - loss: 2.9941 - acc: 0.6212 - val_loss: 33.3873 - val_acc: 0.3529 - 30s/epoch - 920ms/step\n",
            "Epoch 78/100\n",
            "33/33 - 31s - loss: 2.8620 - acc: 0.6212 - val_loss: 11502.4521 - val_acc: 0.6471 - 31s/epoch - 933ms/step\n",
            "Epoch 79/100\n",
            "33/33 - 31s - loss: 2.7558 - acc: 0.6061 - val_loss: 78.6141 - val_acc: 0.6471 - 31s/epoch - 948ms/step\n",
            "Epoch 80/100\n",
            "33/33 - 31s - loss: 2.6447 - acc: 0.5455 - val_loss: 49.7090 - val_acc: 0.6471 - 31s/epoch - 924ms/step\n",
            "Epoch 81/100\n",
            "33/33 - 33s - loss: 2.5093 - acc: 0.6212 - val_loss: 2.7632 - val_acc: 0.6471 - 33s/epoch - 987ms/step\n",
            "Epoch 82/100\n",
            "33/33 - 30s - loss: 2.3886 - acc: 0.5909 - val_loss: 4.5801 - val_acc: 0.5882 - 30s/epoch - 922ms/step\n",
            "Epoch 83/100\n",
            "33/33 - 31s - loss: 2.2865 - acc: 0.6212 - val_loss: 93.8085 - val_acc: 0.6471 - 31s/epoch - 938ms/step\n",
            "Epoch 84/100\n",
            "33/33 - 32s - loss: 2.2626 - acc: 0.4848 - val_loss: 4.3595 - val_acc: 0.4118 - 32s/epoch - 956ms/step\n",
            "Epoch 85/100\n",
            "33/33 - 31s - loss: 2.1949 - acc: 0.6061 - val_loss: 6.3029 - val_acc: 0.6471 - 31s/epoch - 945ms/step\n",
            "Epoch 86/100\n",
            "33/33 - 32s - loss: 2.0527 - acc: 0.5909 - val_loss: 2.5815 - val_acc: 0.6471 - 32s/epoch - 962ms/step\n",
            "Epoch 87/100\n",
            "33/33 - 32s - loss: 2.0345 - acc: 0.5000 - val_loss: 1.9425 - val_acc: 0.5882 - 32s/epoch - 968ms/step\n",
            "Epoch 88/100\n",
            "33/33 - 31s - loss: 1.9449 - acc: 0.5909 - val_loss: 8.4141 - val_acc: 0.3529 - 31s/epoch - 940ms/step\n",
            "Epoch 89/100\n",
            "33/33 - 31s - loss: 1.8536 - acc: 0.5152 - val_loss: 2.4318 - val_acc: 0.6471 - 31s/epoch - 948ms/step\n",
            "Epoch 90/100\n",
            "33/33 - 31s - loss: 1.7854 - acc: 0.5909 - val_loss: 2.1427 - val_acc: 0.3529 - 31s/epoch - 930ms/step\n",
            "Epoch 91/100\n",
            "33/33 - 32s - loss: 1.8090 - acc: 0.5758 - val_loss: 1.8607 - val_acc: 0.3529 - 32s/epoch - 964ms/step\n",
            "Epoch 92/100\n",
            "33/33 - 31s - loss: 1.7034 - acc: 0.5606 - val_loss: 3.0716 - val_acc: 0.3529 - 31s/epoch - 939ms/step\n",
            "Epoch 93/100\n",
            "33/33 - 32s - loss: 1.6435 - acc: 0.5455 - val_loss: 1.6324 - val_acc: 0.6471 - 32s/epoch - 955ms/step\n",
            "Epoch 94/100\n",
            "33/33 - 31s - loss: 1.5510 - acc: 0.5909 - val_loss: 1.8167 - val_acc: 0.3529 - 31s/epoch - 945ms/step\n",
            "Epoch 95/100\n",
            "33/33 - 31s - loss: 1.5317 - acc: 0.6212 - val_loss: 1.4931 - val_acc: 0.6471 - 31s/epoch - 953ms/step\n",
            "Epoch 96/100\n",
            "33/33 - 30s - loss: 1.5170 - acc: 0.5758 - val_loss: 2.4626 - val_acc: 0.3529 - 30s/epoch - 921ms/step\n",
            "Epoch 97/100\n",
            "33/33 - 31s - loss: 1.4770 - acc: 0.6061 - val_loss: 1.7177 - val_acc: 0.3529 - 31s/epoch - 925ms/step\n",
            "Epoch 98/100\n",
            "33/33 - 31s - loss: 1.3818 - acc: 0.6212 - val_loss: 1.9624 - val_acc: 0.3529 - 31s/epoch - 937ms/step\n",
            "Epoch 99/100\n",
            "33/33 - 31s - loss: 1.3492 - acc: 0.6212 - val_loss: 1.4473 - val_acc: 0.5294 - 31s/epoch - 938ms/step\n",
            "Epoch 100/100\n",
            "33/33 - 31s - loss: 1.3091 - acc: 0.5303 - val_loss: 1.2733 - val_acc: 0.6471 - 31s/epoch - 954ms/step\n"
          ]
        }
      ]
    },
    {
      "cell_type": "code",
      "source": [
        "# Calculate average accuracy\n",
        "\n",
        "train_accuracy = history.history['acc']\n",
        "val_accuracy = history.history['val_acc']\n",
        "print(max(val_accuracy))\n",
        "average_train_accuracy = sum(train_accuracy) / len(train_accuracy)\n",
        "average_val_accuracy = sum(val_accuracy) / len(val_accuracy)\n",
        "\n",
        "print(\"Resnet 34 with attention\")\n",
        "print(f'Average Training Accuracy: {average_train_accuracy}')\n",
        "print(f'Average Validation Accuracy: {average_val_accuracy}')\n"
      ],
      "metadata": {
        "id": "Tw587MyNyClu",
        "colab": {
          "base_uri": "https://localhost:8080/"
        },
        "outputId": "891cedd0-5292-477b-9fcb-a4dd345cdb0b"
      },
      "execution_count": 19,
      "outputs": [
        {
          "output_type": "stream",
          "name": "stdout",
          "text": [
            "0.7058823704719543\n",
            "Resnet 34 with attention\n",
            "Average Training Accuracy: 0.5990909069776535\n",
            "Average Validation Accuracy: 0.5029411917924881\n"
          ]
        }
      ]
    },
    {
      "cell_type": "code",
      "source": [
        "import matplotlib.pyplot as plt\n",
        "plt.plot(history.history['acc'], label='accuracy')\n",
        "plt.plot(history.history['val_acc'], label='val_accuracy')\n",
        "plt.xlabel('Epoch')\n",
        "plt.ylabel('Accuracy')\n",
        "plt.legend()\n",
        "plt.show()"
      ],
      "metadata": {
        "id": "Sj8lUNalyH8g",
        "colab": {
          "base_uri": "https://localhost:8080/",
          "height": 449
        },
        "outputId": "ae94f0be-48fe-4e25-8c58-800506182d59"
      },
      "execution_count": 20,
      "outputs": [
        {
          "output_type": "display_data",
          "data": {
            "text/plain": [
              "<Figure size 640x480 with 1 Axes>"
            ],
            "image/png": "[encoded data removed]"
          },
          "metadata": {}
        }
      ]
    }
  ]
}